{
 "cells": [
  {
   "cell_type": "code",
   "execution_count": 1,
   "metadata": {
    "collapsed": true
   },
   "outputs": [],
   "source": [
    "#import dependencies\n",
    "from splinter import Browser\n",
    "from bs4 import BeautifulSoup\n",
    "import pandas as pd\n",
    "import time"
   ]
  },
  {
   "cell_type": "code",
   "execution_count": 2,
   "metadata": {
    "collapsed": true
   },
   "outputs": [],
   "source": [
    "browser = Browser('chrome', headless=False)"
   ]
  },
  {
   "cell_type": "code",
   "execution_count": 3,
   "metadata": {},
   "outputs": [],
   "source": [
    "#Scrape the NASA Mars News Site and collect the latest News Title and Paragragh Text. \n",
    "#Assign the text to variables that you can reference later.\n",
    "\n",
    "def nasa_scrape():\n",
    "    \n",
    "    nasa_url = 'https://mars.nasa.gov/news/?page=0&per_page=40&order=publish_date+desc%2Ccreated_at+desc&search=&category=19%2C165%2C184%2C204&blank_scope=Latest'\n",
    "    browser.visit(nasa_url)\n",
    "\n",
    "#Mars News\n",
    "#scrape titles and news text for the first 3 pages\n",
    "    nasa_dict_list = []\n",
    "\n",
    "\n",
    "#click through 3 pages\n",
    "# for x in range(3):\n",
    "    html = browser.html\n",
    "    soup = BeautifulSoup(html, 'html.parser')\n",
    "\n",
    "    articles = soup.find_all('div', class_='list_text')\n",
    "\n",
    "    for article in articles:\n",
    "        date = article.find('div', class_='list_date').text\n",
    "        title = article.find('div', class_='content_title').find('a').text\n",
    "        p_text = article.find('div', class_='article_teaser_body').text\n",
    "        \n",
    "        dictionary = {\"date\":date, \"title\":title, \"text\":p_text}\n",
    "        print(dictionary)\n",
    "        nasa_dict_list.append(dictionary)\n",
    "        \n",
    "#     browser.click_link_by_partial_text('More')\n",
    "    return nasa_dict_list\n",
    "\n",
    "\n"
   ]
  },
  {
   "cell_type": "code",
   "execution_count": 4,
   "metadata": {},
   "outputs": [
    {
     "name": "stdout",
     "output_type": "stream",
     "text": [
      "{'date': 'April  6, 2018', 'title': 'Bound for Mars: Countdown to First Interplanetary Launch from California', 'text': 'On May 5, millions of Californians may witness the historic first interplanetary launch from America’s West Coast.'}\n",
      "{'date': 'March 30, 2018', 'title': 'NASA Invests in Visionary Technology ', 'text': 'NASA is investing in technology concepts, including several from JPL, that may one day be used for future space exploration missions.'}\n",
      "{'date': 'March 29, 2018', 'title': 'NASA is Ready to Study the Heart of Mars', 'text': 'NASA is about to go on a journey to study the center of Mars.'}\n",
      "{'date': 'March 28, 2018', 'title': '‘Marsquakes’ Could Shake Up Planetary Science', 'text': 'InSight, the next mission to the Red Planet, will use seismology to see into the depths of Mars.'}\n",
      "{'date': 'March 22, 2018', 'title': 'Mars Curiosity Celebrates Sol 2,000', 'text': \"NASA's Mars Curiosity rover just hit a new milestone: its two-thousandth Martian day on the Red Planet. An image mosaic taken recently offers a preview of what comes next.\"}\n",
      "{'date': 'March 22, 2018', 'title': 'NASA Briefing on First Mission to Study Mars Interior', 'text': 'NASA’s next mission to Mars will be the topic of a media briefing Thursday, March 29, at JPL. The briefing will air live on NASA Television and the agency’s website.'}\n",
      "{'date': 'March 20, 2018', 'title': \"New 'AR' Mobile App Features 3-D NASA Spacecraft\", 'text': \"NASA spacecraft travel to far-off destinations in space, but a new mobile app produced by NASA's Jet Propulsion Laboratory, Pasadena, California, brings spacecraft to users.\"}\n",
      "{'date': 'March 14, 2018', 'title': 'NASA Mars Mission Tours California', 'text': \"Scientists and engineers with NASA's next mission to Mars will be touring California cities starting this month.\"}\n",
      "{'date': 'March 13, 2018', 'title': 'Next NASA Mars Rover Reaches Key Manufacturing Milestone', 'text': \"NASA's Mars 2020 mission has begun the assembly, test and launch operations (ATLO) phase of its development, on track for a July 2020 launch to Mars.\"}\n",
      "{'date': 'March 12, 2018', 'title': 'Witness First Mars Launch from West Coast', 'text': \"NASA invites digital creators to apply for social media credentials to cover the launch of the InSight mission to Mars, May 3-5, at California's Vandenberg Air Force Base.\"}\n",
      "{'date': 'March  8, 2018', 'title': '360 Video: Tour a Mars Robot Test Lab', 'text': \"Engineers are practicing operations for NASA's Mars InSight lander, which is launching this spring.\"}\n",
      "{'date': 'February 28, 2018', 'title': 'NASA InSight Mission to Mars Arrives at Launch Site', 'text': \"NASA's InSight spacecraft has arrived at Vandenberg Air Force Base in central California to begin final preparations for a launch this May.\"}\n",
      "{'date': 'February 28, 2018', 'title': 'Curiosity Tests a New Way to Drill on Mars', 'text': \"NASA's Mars Curiosity rover has conducted the first test of a new drilling technique on the Red Planet since its drill stopped working reliably.     \"}\n",
      "{'date': 'February 22, 2018', 'title': 'Seven Ways Mars InSight is Different', 'text': 'NASA has a long and successful track record at Mars. Since 1965, it has flown by, orbited, landed and roved across the surface of the Red Planet. What can InSight -- planned for launch in May -- do that hasn’t been done before?'}\n",
      "{'date': 'February 20, 2018', 'title': 'Nearly a Decade After Mars Phoenix Landed, Another Look', 'text': \"A recent view from Mars orbit of the site where NASA's Phoenix Mars mission landed on far-northern Mars nearly a decade ago captures changes.\"}\n",
      "{'date': 'February 16, 2018', 'title': 'Spacecraft Exits Safe Mode', 'text': 'Diagnostic work is the focus for resuming service and exiting safe standby status.'}\n",
      "{'date': 'February 15, 2018', 'title': '5,000 Days on Mars; Solar-Powered Rover Approaching 5,000th Martian Dawn', 'text': \"The Sun will rise on NASA's solar-powered Mars rover Opportunity for the 5,000th time on Saturday, sending rays of energy to a robot that continues to provide revelations.\"}\n",
      "{'date': 'February 15, 2018', 'title': 'Long-Lived Mars Rover Opportunity Keeps Finding Surprises', 'text': 'NASA\\'s Mars Exploration Rover Opportunity keeps providing surprises about the Red Planet, most recently with observations of possible \"rock stripes.\"'}\n",
      "{'date': 'February 13, 2018', 'title': 'A Piece of Mars is Going Home', 'text': \"When it launches in 2020, NASA's next Mars rover will carry a chunk of Martian meteorite on board.\"}\n",
      "{'date': 'February  9, 2018', 'title': 'Mars Reconnaissance Orbiter Preparing for Years Ahead', 'text': \"NASA's Mars Reconnaissance Orbiter (MRO) has begun extra stargazing to help the space agency accomplish advances in Mars exploration over the next decade.\"}\n",
      "{'date': 'February  8, 2018', 'title': 'Tiny Crystal Shapes Get Close Look From Mars Rover', 'text': \"Star-shaped, tiny, dark bumps in the fine-layered bright bedrock of a Martian ridge are drawing close inspection by NASA's Curiosity Mars rover.\"}\n",
      "{'date': 'February  6, 2018', 'title': 'NASA Tests Atomic Clock for Deep Space Navigation', 'text': 'Project could help spacecraft keep time more efficiently and allow ground stations to better track multiple satellites at once near crowded areas like Mars.'}\n",
      "{'date': 'January 31, 2018', 'title': \"Mount Sharp 'Photobombs' Mars Curiosity Rover\", 'text': \"A new self-portrait of NASA's Curiosity Mars rover shows the vehicle on Vera Rubin Ridge.\"}\n",
      "{'date': 'January 30, 2018', 'title': 'Vista From Mars Rover Looks Back Over Journey So Far', 'text': \"A panoramic image that NASA's Curiosity Mars rover took from a mountainside ridge provides a sweeping vista of key sites visited since the rover's 2012 landing, and the towering surroundings.\"}\n",
      "{'date': 'January 23, 2018', 'title': \"NASA's Next Mars Lander Spreads its Solar Wings\", 'text': \"NASA's next mission to Mars passed a key test Tuesday, extending the solar arrays that will power the InSight spacecraft once it lands on the Red Planet this November.\"}\n",
      "{'date': 'January 23, 2018', 'title': 'Dust Storms Linked to Gas Escape from Mars Atmosphere', 'text': 'If Mars has a global dust storm in 2018, observations could aid understanding of its effects.'}\n",
      "{'date': 'January 11, 2018', 'title': 'Steep Slopes on Mars Reveal Structure of Buried Ice', 'text': \"Researchers using NASA's Mars Reconnaissance Orbiter have found eight sites where thick deposits of ice beneath Mars' surface are exposed.\"}\n",
      "{'date': 'December 13, 2017', 'title': 'Mars Mission Sheds Light on Habitability of Distant Planets', 'text': 'How long might a rocky, Mars-like planet be habitable if it were orbiting a red dwarf star?'}\n",
      "{'date': 'December  6, 2017', 'title': \"NASA Mars Rover Team's Tilted Winter Strategy Works\", 'text': \"NASA's senior Mars rover, Opportunity, has just passed the shortest-daylight weeks of the long Martian year with its solar panels in encouragingly clean condition for entering a potential dust-storm season in 2018.\\r\\n\\r\\n\"}\n",
      "{'date': 'November 28, 2017', 'title': 'NASA Builds Its Next Mars Rover Mission', 'text': \"In just a few years, NASA's next Mars rover mission will be flying to the Red Planet.\"}\n",
      "{'date': 'November 20, 2017', 'title': 'Recurring Martian Streaks: Flowing Sand, Not Water?', 'text': 'Seasonal dark streaks on Mars that previously were described as possible signs of flowing water have steep slopes that are better matches to dry flow processes...'}\n",
      "{'date': 'November 14, 2017', 'title': \"NASA's Mars 2020 Mission Performs First Supersonic Parachute Test\", 'text': \"A 58-foot-tall Black Brant IX sounding rocket launches from NASA's Wallops Flight Facility on Oct. 4. This was the first test of the Mars 2020 mission's parachute-testing series, the Advanced Supersonic Parachute Inflation Research Experiment, or ASPIRE.\"}\n",
      "{'date': 'November  3, 2017', 'title': 'More Than 2.4 Million Names Are Going to Mars', 'text': 'Last month, NASA invited members of the public to send their names to Mars. And the public responded loud and clear.'}\n",
      "{'date': 'November  1, 2017', 'title': \"Martian Ridge Brings Out Rover's Color Talents\", 'text': 'On a part of \"Vera Rubin Ridge\" where rover-team researchers sought to determine whether dust coatings are hiding rocks\\' hematite content, the Mast Camera (Mastcam) on NASA\\'s Curiosity Mars rover took this image of a rock surface that had been brushed with the rover\\'s Dust Removal Tool.'}\n",
      "{'date': 'October 31, 2017', 'title': \"Next Mars Rover Will Have 23 'Eyes'\", 'text': \"When NASA's Mars Pathfinder touched down in 1997, it had five cameras: two on a mast that popped up from the lander, and three on NASA's first rover, Sojourner.\"}\n",
      "{'date': 'October 23, 2017', 'title': 'Mars Rover Mission Progresses Toward Resumed Drilling', 'text': \"NASA's Mars rover Curiosity team is working to restore Curiosity's sample-drilling capability using new techniques. The latest development is a preparatory test on Mars.\"}\n",
      "{'date': 'October 19, 2017', 'title': 'Take a Walk on Mars -- in Your Own Living Room', 'text': 'When NASA scientists want to follow the path of the Curiosity rover on Mars, they can don a mixed-reality headset and virtually explore the Martian landscape.'}\n",
      "{'date': 'October 19, 2017', 'title': 'NASA’s MAVEN Mission Finds Mars Has a Twisted Tail', 'text': 'Mars has an invisible magnetic “tail” that is twisted by interaction with the solar wind, according to new research using data from NASA’s MAVEN spacecraft. '}\n",
      "{'date': 'October  6, 2017', 'title': 'Mars Study Yields Clues to Possible Cradle of Life', 'text': 'The discovery of evidence for ancient sea-floor hydrothermal deposits on Mars identifies an area on the planet that may offer clues about the origin of life on Earth.'}\n",
      "{'date': 'October  4, 2017', 'title': \"Examining Mars' Moon Phobos in a Different Light\", 'text': \"NASA's longest-lived mission to Mars has gained its first look at the Martian moon Phobos, pursuing a deeper understanding by examining it in infrared wavelengths.\"}\n"
     ]
    },
    {
     "data": {
      "text/plain": [
       "[{'date': 'April  6, 2018',\n",
       "  'text': 'On May 5, millions of Californians may witness the historic first interplanetary launch from America’s West Coast.',\n",
       "  'title': 'Bound for Mars: Countdown to First Interplanetary Launch from California'},\n",
       " {'date': 'March 30, 2018',\n",
       "  'text': 'NASA is investing in technology concepts, including several from JPL, that may one day be used for future space exploration missions.',\n",
       "  'title': 'NASA Invests in Visionary Technology '},\n",
       " {'date': 'March 29, 2018',\n",
       "  'text': 'NASA is about to go on a journey to study the center of Mars.',\n",
       "  'title': 'NASA is Ready to Study the Heart of Mars'},\n",
       " {'date': 'March 28, 2018',\n",
       "  'text': 'InSight, the next mission to the Red Planet, will use seismology to see into the depths of Mars.',\n",
       "  'title': '‘Marsquakes’ Could Shake Up Planetary Science'},\n",
       " {'date': 'March 22, 2018',\n",
       "  'text': \"NASA's Mars Curiosity rover just hit a new milestone: its two-thousandth Martian day on the Red Planet. An image mosaic taken recently offers a preview of what comes next.\",\n",
       "  'title': 'Mars Curiosity Celebrates Sol 2,000'},\n",
       " {'date': 'March 22, 2018',\n",
       "  'text': 'NASA’s next mission to Mars will be the topic of a media briefing Thursday, March 29, at JPL. The briefing will air live on NASA Television and the agency’s website.',\n",
       "  'title': 'NASA Briefing on First Mission to Study Mars Interior'},\n",
       " {'date': 'March 20, 2018',\n",
       "  'text': \"NASA spacecraft travel to far-off destinations in space, but a new mobile app produced by NASA's Jet Propulsion Laboratory, Pasadena, California, brings spacecraft to users.\",\n",
       "  'title': \"New 'AR' Mobile App Features 3-D NASA Spacecraft\"},\n",
       " {'date': 'March 14, 2018',\n",
       "  'text': \"Scientists and engineers with NASA's next mission to Mars will be touring California cities starting this month.\",\n",
       "  'title': 'NASA Mars Mission Tours California'},\n",
       " {'date': 'March 13, 2018',\n",
       "  'text': \"NASA's Mars 2020 mission has begun the assembly, test and launch operations (ATLO) phase of its development, on track for a July 2020 launch to Mars.\",\n",
       "  'title': 'Next NASA Mars Rover Reaches Key Manufacturing Milestone'},\n",
       " {'date': 'March 12, 2018',\n",
       "  'text': \"NASA invites digital creators to apply for social media credentials to cover the launch of the InSight mission to Mars, May 3-5, at California's Vandenberg Air Force Base.\",\n",
       "  'title': 'Witness First Mars Launch from West Coast'},\n",
       " {'date': 'March  8, 2018',\n",
       "  'text': \"Engineers are practicing operations for NASA's Mars InSight lander, which is launching this spring.\",\n",
       "  'title': '360 Video: Tour a Mars Robot Test Lab'},\n",
       " {'date': 'February 28, 2018',\n",
       "  'text': \"NASA's InSight spacecraft has arrived at Vandenberg Air Force Base in central California to begin final preparations for a launch this May.\",\n",
       "  'title': 'NASA InSight Mission to Mars Arrives at Launch Site'},\n",
       " {'date': 'February 28, 2018',\n",
       "  'text': \"NASA's Mars Curiosity rover has conducted the first test of a new drilling technique on the Red Planet since its drill stopped working reliably.     \",\n",
       "  'title': 'Curiosity Tests a New Way to Drill on Mars'},\n",
       " {'date': 'February 22, 2018',\n",
       "  'text': 'NASA has a long and successful track record at Mars. Since 1965, it has flown by, orbited, landed and roved across the surface of the Red Planet. What can InSight -- planned for launch in May -- do that hasn’t been done before?',\n",
       "  'title': 'Seven Ways Mars InSight is Different'},\n",
       " {'date': 'February 20, 2018',\n",
       "  'text': \"A recent view from Mars orbit of the site where NASA's Phoenix Mars mission landed on far-northern Mars nearly a decade ago captures changes.\",\n",
       "  'title': 'Nearly a Decade After Mars Phoenix Landed, Another Look'},\n",
       " {'date': 'February 16, 2018',\n",
       "  'text': 'Diagnostic work is the focus for resuming service and exiting safe standby status.',\n",
       "  'title': 'Spacecraft Exits Safe Mode'},\n",
       " {'date': 'February 15, 2018',\n",
       "  'text': \"The Sun will rise on NASA's solar-powered Mars rover Opportunity for the 5,000th time on Saturday, sending rays of energy to a robot that continues to provide revelations.\",\n",
       "  'title': '5,000 Days on Mars; Solar-Powered Rover Approaching 5,000th Martian Dawn'},\n",
       " {'date': 'February 15, 2018',\n",
       "  'text': 'NASA\\'s Mars Exploration Rover Opportunity keeps providing surprises about the Red Planet, most recently with observations of possible \"rock stripes.\"',\n",
       "  'title': 'Long-Lived Mars Rover Opportunity Keeps Finding Surprises'},\n",
       " {'date': 'February 13, 2018',\n",
       "  'text': \"When it launches in 2020, NASA's next Mars rover will carry a chunk of Martian meteorite on board.\",\n",
       "  'title': 'A Piece of Mars is Going Home'},\n",
       " {'date': 'February  9, 2018',\n",
       "  'text': \"NASA's Mars Reconnaissance Orbiter (MRO) has begun extra stargazing to help the space agency accomplish advances in Mars exploration over the next decade.\",\n",
       "  'title': 'Mars Reconnaissance Orbiter Preparing for Years Ahead'},\n",
       " {'date': 'February  8, 2018',\n",
       "  'text': \"Star-shaped, tiny, dark bumps in the fine-layered bright bedrock of a Martian ridge are drawing close inspection by NASA's Curiosity Mars rover.\",\n",
       "  'title': 'Tiny Crystal Shapes Get Close Look From Mars Rover'},\n",
       " {'date': 'February  6, 2018',\n",
       "  'text': 'Project could help spacecraft keep time more efficiently and allow ground stations to better track multiple satellites at once near crowded areas like Mars.',\n",
       "  'title': 'NASA Tests Atomic Clock for Deep Space Navigation'},\n",
       " {'date': 'January 31, 2018',\n",
       "  'text': \"A new self-portrait of NASA's Curiosity Mars rover shows the vehicle on Vera Rubin Ridge.\",\n",
       "  'title': \"Mount Sharp 'Photobombs' Mars Curiosity Rover\"},\n",
       " {'date': 'January 30, 2018',\n",
       "  'text': \"A panoramic image that NASA's Curiosity Mars rover took from a mountainside ridge provides a sweeping vista of key sites visited since the rover's 2012 landing, and the towering surroundings.\",\n",
       "  'title': 'Vista From Mars Rover Looks Back Over Journey So Far'},\n",
       " {'date': 'January 23, 2018',\n",
       "  'text': \"NASA's next mission to Mars passed a key test Tuesday, extending the solar arrays that will power the InSight spacecraft once it lands on the Red Planet this November.\",\n",
       "  'title': \"NASA's Next Mars Lander Spreads its Solar Wings\"},\n",
       " {'date': 'January 23, 2018',\n",
       "  'text': 'If Mars has a global dust storm in 2018, observations could aid understanding of its effects.',\n",
       "  'title': 'Dust Storms Linked to Gas Escape from Mars Atmosphere'},\n",
       " {'date': 'January 11, 2018',\n",
       "  'text': \"Researchers using NASA's Mars Reconnaissance Orbiter have found eight sites where thick deposits of ice beneath Mars' surface are exposed.\",\n",
       "  'title': 'Steep Slopes on Mars Reveal Structure of Buried Ice'},\n",
       " {'date': 'December 13, 2017',\n",
       "  'text': 'How long might a rocky, Mars-like planet be habitable if it were orbiting a red dwarf star?',\n",
       "  'title': 'Mars Mission Sheds Light on Habitability of Distant Planets'},\n",
       " {'date': 'December  6, 2017',\n",
       "  'text': \"NASA's senior Mars rover, Opportunity, has just passed the shortest-daylight weeks of the long Martian year with its solar panels in encouragingly clean condition for entering a potential dust-storm season in 2018.\\r\\n\\r\\n\",\n",
       "  'title': \"NASA Mars Rover Team's Tilted Winter Strategy Works\"},\n",
       " {'date': 'November 28, 2017',\n",
       "  'text': \"In just a few years, NASA's next Mars rover mission will be flying to the Red Planet.\",\n",
       "  'title': 'NASA Builds Its Next Mars Rover Mission'},\n",
       " {'date': 'November 20, 2017',\n",
       "  'text': 'Seasonal dark streaks on Mars that previously were described as possible signs of flowing water have steep slopes that are better matches to dry flow processes...',\n",
       "  'title': 'Recurring Martian Streaks: Flowing Sand, Not Water?'},\n",
       " {'date': 'November 14, 2017',\n",
       "  'text': \"A 58-foot-tall Black Brant IX sounding rocket launches from NASA's Wallops Flight Facility on Oct. 4. This was the first test of the Mars 2020 mission's parachute-testing series, the Advanced Supersonic Parachute Inflation Research Experiment, or ASPIRE.\",\n",
       "  'title': \"NASA's Mars 2020 Mission Performs First Supersonic Parachute Test\"},\n",
       " {'date': 'November  3, 2017',\n",
       "  'text': 'Last month, NASA invited members of the public to send their names to Mars. And the public responded loud and clear.',\n",
       "  'title': 'More Than 2.4 Million Names Are Going to Mars'},\n",
       " {'date': 'November  1, 2017',\n",
       "  'text': 'On a part of \"Vera Rubin Ridge\" where rover-team researchers sought to determine whether dust coatings are hiding rocks\\' hematite content, the Mast Camera (Mastcam) on NASA\\'s Curiosity Mars rover took this image of a rock surface that had been brushed with the rover\\'s Dust Removal Tool.',\n",
       "  'title': \"Martian Ridge Brings Out Rover's Color Talents\"},\n",
       " {'date': 'October 31, 2017',\n",
       "  'text': \"When NASA's Mars Pathfinder touched down in 1997, it had five cameras: two on a mast that popped up from the lander, and three on NASA's first rover, Sojourner.\",\n",
       "  'title': \"Next Mars Rover Will Have 23 'Eyes'\"},\n",
       " {'date': 'October 23, 2017',\n",
       "  'text': \"NASA's Mars rover Curiosity team is working to restore Curiosity's sample-drilling capability using new techniques. The latest development is a preparatory test on Mars.\",\n",
       "  'title': 'Mars Rover Mission Progresses Toward Resumed Drilling'},\n",
       " {'date': 'October 19, 2017',\n",
       "  'text': 'When NASA scientists want to follow the path of the Curiosity rover on Mars, they can don a mixed-reality headset and virtually explore the Martian landscape.',\n",
       "  'title': 'Take a Walk on Mars -- in Your Own Living Room'},\n",
       " {'date': 'October 19, 2017',\n",
       "  'text': 'Mars has an invisible magnetic “tail” that is twisted by interaction with the solar wind, according to new research using data from NASA’s MAVEN spacecraft. ',\n",
       "  'title': 'NASA’s MAVEN Mission Finds Mars Has a Twisted Tail'},\n",
       " {'date': 'October  6, 2017',\n",
       "  'text': 'The discovery of evidence for ancient sea-floor hydrothermal deposits on Mars identifies an area on the planet that may offer clues about the origin of life on Earth.',\n",
       "  'title': 'Mars Study Yields Clues to Possible Cradle of Life'},\n",
       " {'date': 'October  4, 2017',\n",
       "  'text': \"NASA's longest-lived mission to Mars has gained its first look at the Martian moon Phobos, pursuing a deeper understanding by examining it in infrared wavelengths.\",\n",
       "  'title': \"Examining Mars' Moon Phobos in a Different Light\"}]"
      ]
     },
     "execution_count": 4,
     "metadata": {},
     "output_type": "execute_result"
    }
   ],
   "source": [
    "nasa_scrape()\n",
    "        \n",
    "    \n",
    "    \n"
   ]
  },
  {
   "cell_type": "code",
   "execution_count": 5,
   "metadata": {
    "collapsed": true
   },
   "outputs": [],
   "source": [
    "#Featured Mars Image\n",
    "def jpl_scrape():\n",
    "    jpl_url = \"https://www.jpl.nasa.gov/spaceimages/?search=&category=Mars\"\n",
    "    browser.visit(jpl_url)\n",
    "\n",
    "    # find the image url for the current Featured Mars Image \n",
    "    # and assign the url string to a variable called featured_image_url\n",
    "    html = browser.html\n",
    "    soup = BeautifulSoup(html, 'html.parser')\n",
    "\n",
    "    article = soup.find(\"article\", class_='carousel_item')\n",
    "    style = article[\"style\"]\n",
    "    # print(style)\n",
    "    image_str = style.split(\"'\", 2)\n",
    "    featured_image_url_part2 = image_str[1]\n",
    "\n",
    "    jpl_url_split = jpl_url.split(\"/spaceimages\", 1)\n",
    "    featured_image_url_part1 = jpl_url_split[0]\n",
    "\n",
    "    featured_image_url = featured_image_url_part1 + featured_image_url_part2\n",
    "\n",
    "    print(featured_image_url)\n",
    "    \n",
    "    return featured_image_url"
   ]
  },
  {
   "cell_type": "code",
   "execution_count": 6,
   "metadata": {},
   "outputs": [
    {
     "name": "stdout",
     "output_type": "stream",
     "text": [
      "https://www.jpl.nasa.gov/spaceimages/images/wallpaper/PIA17356-1920x1200.jpg\n"
     ]
    },
    {
     "data": {
      "text/plain": [
       "'https://www.jpl.nasa.gov/spaceimages/images/wallpaper/PIA17356-1920x1200.jpg'"
      ]
     },
     "execution_count": 6,
     "metadata": {},
     "output_type": "execute_result"
    }
   ],
   "source": [
    "\n",
    "jpl_scrape()"
   ]
  },
  {
   "cell_type": "code",
   "execution_count": 8,
   "metadata": {
    "collapsed": true
   },
   "outputs": [],
   "source": [
    "#Mars Weather\n",
    "def mars_weather_scrape():\n",
    "    twitter_url = \"https://twitter.com/marswxreport?lang=en\"\n",
    "    browser.visit(twitter_url)\n",
    "    \n",
    "    html = browser.html\n",
    "    soup = BeautifulSoup(html, 'html.parser')\n",
    "\n",
    "    mars_weather = soup.find(\"li\", class_='stream-item').find(\"p\", class_=\"tweet-text\").text\n",
    "    print(mars_weather)\n",
    "    \n",
    "    return mars_weather\n"
   ]
  },
  {
   "cell_type": "code",
   "execution_count": 9,
   "metadata": {},
   "outputs": [
    {
     "name": "stdout",
     "output_type": "stream",
     "text": [
      "Sol 2022 (April 14, 2018), Sunny, high -4C/24F, low -73C/-99F, pressure at 7.19 hPa, daylight 05:27-17:21\n"
     ]
    },
    {
     "data": {
      "text/plain": [
       "'Sol 2022 (April 14, 2018), Sunny, high -4C/24F, low -73C/-99F, pressure at 7.19 hPa, daylight 05:27-17:21'"
      ]
     },
     "execution_count": 9,
     "metadata": {},
     "output_type": "execute_result"
    }
   ],
   "source": [
    "mars_weather_scrape()"
   ]
  },
  {
   "cell_type": "code",
   "execution_count": 10,
   "metadata": {
    "collapsed": true
   },
   "outputs": [],
   "source": [
    "#Mars Facts\n",
    "def mars_facts_scrape():\n",
    "    tables = pd.read_html(\"https://space-facts.com/mars/\")\n",
    "    print(len(tables))\n",
    "    facts_table = tables[0]\n",
    "    html_table = facts_table.to_html()\n",
    "    return html_table"
   ]
  },
  {
   "cell_type": "code",
   "execution_count": 11,
   "metadata": {},
   "outputs": [
    {
     "name": "stdout",
     "output_type": "stream",
     "text": [
      "1\n"
     ]
    },
    {
     "data": {
      "text/plain": [
       "'<table border=\"1\" class=\"dataframe\">\\n  <thead>\\n    <tr style=\"text-align: right;\">\\n      <th></th>\\n      <th>0</th>\\n      <th>1</th>\\n    </tr>\\n  </thead>\\n  <tbody>\\n    <tr>\\n      <th>0</th>\\n      <td>Equatorial Diameter:</td>\\n      <td>6,792 km</td>\\n    </tr>\\n    <tr>\\n      <th>1</th>\\n      <td>Polar Diameter:</td>\\n      <td>6,752 km</td>\\n    </tr>\\n    <tr>\\n      <th>2</th>\\n      <td>Mass:</td>\\n      <td>6.42 x 10^23 kg (10.7% Earth)</td>\\n    </tr>\\n    <tr>\\n      <th>3</th>\\n      <td>Moons:</td>\\n      <td>2 (Phobos &amp; Deimos)</td>\\n    </tr>\\n    <tr>\\n      <th>4</th>\\n      <td>Orbit Distance:</td>\\n      <td>227,943,824 km (1.52 AU)</td>\\n    </tr>\\n    <tr>\\n      <th>5</th>\\n      <td>Orbit Period:</td>\\n      <td>687 days (1.9 years)</td>\\n    </tr>\\n    <tr>\\n      <th>6</th>\\n      <td>Surface Temperature:</td>\\n      <td>-153 to 20 °C</td>\\n    </tr>\\n    <tr>\\n      <th>7</th>\\n      <td>First Record:</td>\\n      <td>2nd millennium BC</td>\\n    </tr>\\n    <tr>\\n      <th>8</th>\\n      <td>Recorded By:</td>\\n      <td>Egyptian astronomers</td>\\n    </tr>\\n  </tbody>\\n</table>'"
      ]
     },
     "execution_count": 11,
     "metadata": {},
     "output_type": "execute_result"
    }
   ],
   "source": [
    "mars_facts_scrape()"
   ]
  },
  {
   "cell_type": "code",
   "execution_count": 14,
   "metadata": {
    "collapsed": true
   },
   "outputs": [],
   "source": [
    "#Mars Hemispheres\n",
    "def hemispheres_scrape():\n",
    "    usgs_url = \"https://astrogeology.usgs.gov/search/results?q=hemisphere+enhanced&k1=target&v1=Mars\"\n",
    "    browser.visit(usgs_url)\n",
    "    html = browser.html\n",
    "    soup = BeautifulSoup(html, 'html.parser')\n",
    "    hemispheres_dict_list = []\n",
    "    links = browser.find_by_css(\".itemLink h3\")\n",
    "\n",
    "    for i in range(len(links)):\n",
    "        browser.find_by_css(\".itemLink h3\")[i].click()\n",
    "        html = browser.html\n",
    "        soup = BeautifulSoup(html, 'html.parser')\n",
    "        image = soup.find(\"img\", class_=\"wide-image\")\n",
    "        img_url = \"https://astrogeology.usgs.gov\" + image[\"src\"]\n",
    "\n",
    "        title = soup.find(\"h2\", class_=\"title\").text\n",
    "\n",
    "        dictionary = {\"title\":title, \"img_url\":img_url}\n",
    "\n",
    "        hemispheres_dict_list.append(dictionary)\n",
    "\n",
    "        browser.back()\n",
    "    print(hemispheres_dict_list)\n",
    "    return hemispheres_dict_list"
   ]
  },
  {
   "cell_type": "code",
   "execution_count": 15,
   "metadata": {},
   "outputs": [
    {
     "name": "stdout",
     "output_type": "stream",
     "text": [
      "[{'title': 'Cerberus Hemisphere Enhanced', 'img_url': 'https://astrogeology.usgs.gov/cache/images/cfa62af2557222a02478f1fcd781d445_cerberus_enhanced.tif_full.jpg'}, {'title': 'Schiaparelli Hemisphere Enhanced', 'img_url': 'https://astrogeology.usgs.gov/cache/images/3cdd1cbf5e0813bba925c9030d13b62e_schiaparelli_enhanced.tif_full.jpg'}, {'title': 'Syrtis Major Hemisphere Enhanced', 'img_url': 'https://astrogeology.usgs.gov/cache/images/ae209b4e408bb6c3e67b6af38168cf28_syrtis_major_enhanced.tif_full.jpg'}, {'title': 'Valles Marineris Hemisphere Enhanced', 'img_url': 'https://astrogeology.usgs.gov/cache/images/7cf2da4bf549ed01c17f206327be4db7_valles_marineris_enhanced.tif_full.jpg'}]\n"
     ]
    },
    {
     "data": {
      "text/plain": [
       "[{'img_url': 'https://astrogeology.usgs.gov/cache/images/cfa62af2557222a02478f1fcd781d445_cerberus_enhanced.tif_full.jpg',\n",
       "  'title': 'Cerberus Hemisphere Enhanced'},\n",
       " {'img_url': 'https://astrogeology.usgs.gov/cache/images/3cdd1cbf5e0813bba925c9030d13b62e_schiaparelli_enhanced.tif_full.jpg',\n",
       "  'title': 'Schiaparelli Hemisphere Enhanced'},\n",
       " {'img_url': 'https://astrogeology.usgs.gov/cache/images/ae209b4e408bb6c3e67b6af38168cf28_syrtis_major_enhanced.tif_full.jpg',\n",
       "  'title': 'Syrtis Major Hemisphere Enhanced'},\n",
       " {'img_url': 'https://astrogeology.usgs.gov/cache/images/7cf2da4bf549ed01c17f206327be4db7_valles_marineris_enhanced.tif_full.jpg',\n",
       "  'title': 'Valles Marineris Hemisphere Enhanced'}]"
      ]
     },
     "execution_count": 15,
     "metadata": {},
     "output_type": "execute_result"
    }
   ],
   "source": [
    "hemispheres_scrape()"
   ]
  },
  {
   "cell_type": "code",
   "execution_count": null,
   "metadata": {
    "collapsed": true
   },
   "outputs": [],
   "source": []
  },
  {
   "cell_type": "code",
   "execution_count": null,
   "metadata": {},
   "outputs": [],
   "source": [
    "\n"
   ]
  },
  {
   "cell_type": "code",
   "execution_count": null,
   "metadata": {},
   "outputs": [],
   "source": []
  },
  {
   "cell_type": "code",
   "execution_count": null,
   "metadata": {
    "collapsed": true
   },
   "outputs": [],
   "source": []
  }
 ],
 "metadata": {
  "kernelspec": {
   "display_name": "Python [conda env:PythonData]",
   "language": "python",
   "name": "conda-env-PythonData-py"
  },
  "language_info": {
   "codemirror_mode": {
    "name": "ipython",
    "version": 3
   },
   "file_extension": ".py",
   "mimetype": "text/x-python",
   "name": "python",
   "nbconvert_exporter": "python",
   "pygments_lexer": "ipython3",
   "version": "3.6.3"
  }
 },
 "nbformat": 4,
 "nbformat_minor": 2
}
